{
 "cells": [
  {
   "cell_type": "markdown",
   "metadata": {},
   "source": [
    "Jose Jimenez\n",
    "\n",
    "Quantitative Analyst\n",
    "\n",
    "<a href='mailto:jimenez.jm@hotmail.com'>jimenez.jm@hotmail.com</a>"
   ]
  },
  {
   "cell_type": "markdown",
   "metadata": {},
   "source": [
    "### Cox-Ross-Rubinstein model (Binomial option pricing)"
   ]
  },
  {
   "cell_type": "code",
   "execution_count": 3,
   "metadata": {},
   "outputs": [],
   "source": [
    "import math\n",
    "import numpy as np\n",
    "import matplotlib as mpl\n",
    "import matplotlib.pyplot as plt\n",
    "import mpl_toolkits.mplot3d.axes3d as p3\n",
    "from scipy.integrate import quad\n",
    "mpl.rcParams['font.family'] = 'serif'\n",
    "from pylab import plt\n",
    "plt.style.use('seaborn')\n",
    "%matplotlib inline"
   ]
  },
  {
   "cell_type": "code",
   "execution_count": 4,
   "metadata": {},
   "outputs": [],
   "source": [
    "def dN(x):\n",
    "    ''' Probability density function of standard normal random variable x. '''\n",
    "    return math.exp(-0.5 * x ** 2) / math.sqrt(2 * math.pi)\n",
    "\n",
    "\n",
    "def N(d):\n",
    "    ''' Cumulative density function of standard normal random variable x. '''\n",
    "    return quad(lambda x: dN(x), -20, d, limit=50)[0]\n",
    "\n",
    "\n",
    "def d1f(St, K, t, T, r, sigma):\n",
    "    ''' Black-Scholes-Merton d1 function.\n",
    "        Parameters see e.g. BSM_call_value function. '''\n",
    "    d1 = (math.log(St / K) + (r + 0.5 * sigma ** 2)\n",
    "          * (T - t)) / (sigma * math.sqrt(T - t))\n",
    "    return d1\n",
    "\n",
    "#\n",
    "# Valuation Functions\n",
    "#\n",
    "\n",
    "\n",
    "def BSM_call_value(St, K, t, T, r, sigma):\n",
    "    ''' Calculates Black-Scholes-Merton European call option value.\n",
    "\n",
    "    Parameters\n",
    "    ==========\n",
    "    St : float\n",
    "        stock/index level at time t\n",
    "    K : float\n",
    "        strike price\n",
    "    t : float\n",
    "        valuation date\n",
    "    T : float\n",
    "        date of maturity/time-to-maturity if t = 0; T > t\n",
    "    r : float\n",
    "        constant, risk-less short rate\n",
    "    sigma : float\n",
    "        volatility\n",
    "\n",
    "    Returns\n",
    "    =======\n",
    "    call_value : float\n",
    "        European call present value at t\n",
    "    '''\n",
    "    d1 = d1f(St, K, t, T, r, sigma)\n",
    "    d2 = d1 - sigma * math.sqrt(T - t)\n",
    "    call_value = St * N(d1) - math.exp(-r * (T - t)) * K * N(d2)\n",
    "    return call_value\n",
    "\n",
    "\n",
    "def BSM_put_value(St, K, t, T, r, sigma):\n",
    "    ''' Calculates Black-Scholes-Merton European put option value.\n",
    "\n",
    "    Parameters\n",
    "    ==========\n",
    "    St : float\n",
    "        stock/index level at time t\n",
    "    K : float\n",
    "        strike price\n",
    "    t : float\n",
    "        valuation date\n",
    "    T : float\n",
    "        date of maturity/time-to-maturity if t = 0; T > t\n",
    "    r : float\n",
    "        constant, risk-less short rate\n",
    "    sigma : float\n",
    "        volatility\n",
    "\n",
    "    Returns\n",
    "    =======\n",
    "    put_value : float\n",
    "        European put present value at t\n",
    "    '''\n",
    "    put_value = BSM_call_value(St, K, t, T, r, sigma) \\\n",
    "        - St + math.exp(-r * (T - t)) * K\n",
    "    return put_value\n",
    "\n",
    "\n",
    "#\n",
    "# Plotting European Option Values\n",
    "#\n",
    "\n",
    "\n",
    "def plot_values(function):\n",
    "    ''' Plots European option values for different parameters c.p. '''\n",
    "    plt.figure(figsize=(10, 8.3))\n",
    "    points = 100\n",
    "    #\n",
    "    # Model Parameters\n",
    "    #\n",
    "    St = 100.0  # index level\n",
    "    K = 100.0  # option strike\n",
    "    t = 0.0  # valuation date\n",
    "    T = 1.0  # maturity date\n",
    "    r = 0.05  # risk-less short rate\n",
    "    sigma = 0.2  # volatility\n",
    "\n",
    "    # C(K) plot\n",
    "    plt.subplot(221)\n",
    "    klist = np.linspace(80, 120, points)\n",
    "    vlist = [function(St, K, t, T, r, sigma) for K in klist]\n",
    "    plt.plot(klist, vlist)\n",
    "    plt.grid()\n",
    "    plt.xlabel('strike $K$')\n",
    "    plt.ylabel('present value')\n",
    "\n",
    "    # C(T) plot\n",
    "    plt.subplot(222)\n",
    "    tlist = np.linspace(0.0001, 1, points)\n",
    "    vlist = [function(St, K, t, T, r, sigma) for T in tlist]\n",
    "    plt.plot(tlist, vlist)\n",
    "    plt.grid(True)\n",
    "    plt.xlabel('maturity $T$')\n",
    "\n",
    "    # C(r) plot\n",
    "    plt.subplot(223)\n",
    "    rlist = np.linspace(0, 0.1, points)\n",
    "    vlist = [function(St, K, t, T, r, sigma) for r in rlist]\n",
    "    plt.plot(tlist, vlist)\n",
    "    plt.grid(True)\n",
    "    plt.xlabel('short rate $r$')\n",
    "    plt.ylabel('present value')\n",
    "    plt.axis('tight')\n",
    "\n",
    "    # C(sigma) plot\n",
    "    plt.subplot(224)\n",
    "    slist = np.linspace(0.01, 0.5, points)\n",
    "    vlist = [function(St, K, t, T, r, sigma) for sigma in slist]\n",
    "    plt.plot(slist, vlist)\n",
    "    plt.grid(True)\n",
    "    plt.xlabel('volatility $\\sigma$')\n",
    "    plt.tight_layout()"
   ]
  },
  {
   "cell_type": "code",
   "execution_count": 5,
   "metadata": {},
   "outputs": [],
   "source": [
    "#\n",
    "# Cox-Ross-Rubinstein Binomial Model\n",
    "# European Option Valuation\n",
    "#\n",
    "\n",
    "#\n",
    "# Model Parameters\n",
    "#\n",
    "S0 = 100.0  # index level\n",
    "K = 100.0  # option strike\n",
    "T = 1.0  # maturity date\n",
    "r = 0.05  # risk-less short rate\n",
    "sigma = 0.2  # volatility\n",
    "\n",
    "\n",
    "# Valuation Function\n",
    "def CRR_option_value(S0, K, T, r, sigma, otype, M=4):\n",
    "    ''' Cox-Ross-Rubinstein European option valuation.\n",
    "\n",
    "    Parameters\n",
    "    ==========\n",
    "    S0 : float\n",
    "        stock/index level at time 0\n",
    "    K : float\n",
    "        strike price\n",
    "    T : float\n",
    "        date of maturity\n",
    "    r : float\n",
    "        constant, risk-less short rate\n",
    "    sigma : float\n",
    "        volatility\n",
    "    otype : string\n",
    "        either 'call' or 'put'\n",
    "    M : int\n",
    "        number of time intervals\n",
    "    '''\n",
    "    # Time Parameters\n",
    "    dt = T / M  # length of time interval\n",
    "    df = math.exp(-r * dt)  # discount per interval\n",
    "\n",
    "    # Binomial Parameters\n",
    "    u = math.exp(sigma * math.sqrt(dt))  # up movement\n",
    "    d = 1 / u  # down movement\n",
    "    q = (math.exp(r * dt) - d) / (u - d)  # martingale branch probability\n",
    "\n",
    "    # Array Initialization for Index Levels\n",
    "    mu = np.arange(M + 1)\n",
    "    mu = np.resize(mu, (M + 1, M + 1))\n",
    "    md = np.transpose(mu)\n",
    "    mu = u ** (mu - md)\n",
    "    md = d ** md\n",
    "    S = S0 * mu * md\n",
    "\n",
    "    # Inner Values\n",
    "    if otype == 'call':\n",
    "        V = np.maximum(S - K, 0)  # inner values for European call option\n",
    "    else:\n",
    "        V = np.maximum(K - S, 0)  # inner values for European put option\n",
    "\n",
    "    z = 0\n",
    "    for t in range(M - 1, -1, -1):  # backwards iteration\n",
    "        V[0:M - z, t] = (q * V[0:M - z, t + 1] +\n",
    "                         (1 - q) * V[1:M - z + 1, t + 1]) * df\n",
    "        z += 1\n",
    "    return V[0, 0]\n",
    "\n",
    "\n",
    "def plot_convergence(mmin, mmax, step_size):\n",
    "    ''' Plots the CRR option values for increasing number of time\n",
    "    intervals M against the Black-Scholes-Merton benchmark value.'''\n",
    "    BSM_benchmark = BSM_call_value(S0, K, 0, T, r, sigma)\n",
    "    m = range(mmin, mmax, step_size)\n",
    "    CRR_values = [CRR_option_value(S0, K, T, r, sigma, 'call', M) for M in m]\n",
    "    plt.figure(figsize=(9, 5))\n",
    "    plt.plot(m, CRR_values, label='CRR values')\n",
    "    plt.axhline(BSM_benchmark, color='r', ls='dashed', lw=1.5,\n",
    "                label='BSM benchmark')\n",
    "    plt.xlabel('# of binomial steps $M$')\n",
    "    plt.ylabel('European call option value')\n",
    "    plt.legend(loc=4)\n",
    "    plt.xlim(0, mmax)"
   ]
  },
  {
   "cell_type": "markdown",
   "metadata": {},
   "source": [
    "### Binomial Option Pricing"
   ]
  },
  {
   "cell_type": "code",
   "execution_count": 6,
   "metadata": {},
   "outputs": [
    {
     "data": {
      "text/plain": [
       "10.45058357218553"
      ]
     },
     "execution_count": 6,
     "metadata": {},
     "output_type": "execute_result"
    }
   ],
   "source": [
    "BSM_benchmark = BSM_call_value(S0, K, 0, T, r, sigma)\n",
    "BSM_benchmark"
   ]
  },
  {
   "cell_type": "code",
   "execution_count": 7,
   "metadata": {},
   "outputs": [
    {
     "name": "stdout",
     "output_type": "stream",
     "text": [
      "Wall time: 380 ms\n"
     ]
    },
    {
     "data": {
      "text/plain": [
       "10.449583775457942"
      ]
     },
     "execution_count": 7,
     "metadata": {},
     "output_type": "execute_result"
    }
   ],
   "source": [
    "%time CRR_option_value(S0, K, T, r, sigma, 'call', M=2000)"
   ]
  },
  {
   "cell_type": "code",
   "execution_count": 8,
   "metadata": {},
   "outputs": [
    {
     "name": "stdout",
     "output_type": "stream",
     "text": [
      "Wall time: 1.61 s\n"
     ]
    },
    {
     "data": {
      "image/png": "[encoded data removed]",
      "text/plain": [
       "<Figure size 648x360 with 1 Axes>"
      ]
     },
     "metadata": {
      "needs_background": "light"
     },
     "output_type": "display_data"
    }
   ],
   "source": [
    "%%time\n",
    "plot_convergence(10, 1011, 20)"
   ]
  },
  {
   "cell_type": "code",
   "execution_count": 9,
   "metadata": {},
   "outputs": [
    {
     "name": "stdout",
     "output_type": "stream",
     "text": [
      "Wall time: 1.33 s\n"
     ]
    },
    {
     "data": {
      "image/png": "[encoded data removed]",
      "text/plain": [
       "<Figure size 648x360 with 1 Axes>"
      ]
     },
     "metadata": {
      "needs_background": "light"
     },
     "output_type": "display_data"
    }
   ],
   "source": [
    "%%time\n",
    "plot_convergence(10, 1011, 25)"
   ]
  }
 ],
 "metadata": {
  "kernelspec": {
   "display_name": "Python 3",
   "language": "python",
   "name": "python3"
  },
  "language_info": {
   "codemirror_mode": {
    "name": "ipython",
    "version": 3
   },
   "file_extension": ".py",
   "mimetype": "text/x-python",
   "name": "python",
   "nbconvert_exporter": "python",
   "pygments_lexer": "ipython3",
   "version": "3.6.10"
  }
 },
 "nbformat": 4,
 "nbformat_minor": 1
}

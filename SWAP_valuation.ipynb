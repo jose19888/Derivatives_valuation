{
 "cells": [
  {
   "cell_type": "code",
   "execution_count": 12,
   "metadata": {},
   "outputs": [
    {
     "name": "stdout",
     "output_type": "stream",
     "text": [
      "October 20th, 2015\n"
     ]
    }
   ],
   "source": [
    "# Modeling Vanilla Interest Rate Swaps Using QuantLib\n",
    "# Jose Jimenez\n",
    "import QuantLib as ql\n",
    "import matplotlib.pyplot as plt \n",
    "Computation_date = ql.Date(20, 10, 2015)\n",
    "print(Computation_date)\n",
    "ql.Settings.instance().evaluationDate = Computation_date"
   ]
  },
  {
   "cell_type": "code",
   "execution_count": 22,
   "metadata": {},
   "outputs": [],
   "source": [
    "# Here we construct the yield curve objects. \n",
    "# For simplicity, we will use flat curves for discounting and 3-month LIBOR.\n",
    "\n",
    "# Risk free rate\n",
    "Rf = 0.01\n",
    "\n",
    "LIBOR_rate = 0.02\n",
    "\n",
    "# Actual/365 (Fixed) day count convention.\n",
    "day_count = ql.Actual365Fixed()\n",
    "\n",
    "# The yieldTermStructure object provides an method which gives us the discount factor \n",
    "# for a particular date (QuantLib.Date object) or time in years (with 0 = evaluationDate). \n",
    "# This method is called discount.\n",
    "\n",
    "# FlatForward(): Flat interest-rate curve\n",
    "PV_discount_curve = ql.YieldTermStructureHandle(\n",
    "    ql.FlatForward(Computation_date, Rf, day_count)\n",
    ")\n",
    "\n",
    "LIBOR_curve = ql.YieldTermStructureHandle(\n",
    "    ql.FlatForward(Computation_date, LIBOR_rate, day_count)\n",
    ")\n",
    "\n",
    "LIBOR_3months_index  = ql.Euribor3M(LIBOR_curve)  \n",
    "#LIBOR_3months_index = ql.USDLibor(ql.Period(3, ql.Months), LIBOR_curve)"
   ]
  },
  {
   "cell_type": "code",
   "execution_count": 14,
   "metadata": {},
   "outputs": [],
   "source": [
    "# To construct the Swap instrument, we have to specify the fixed rate leg and \n",
    "# floating rate leg.\n",
    "\n",
    "\n",
    "UKcalendar = ql.UnitedKingdom()\n",
    "\n",
    "\n",
    "Settlement_date = UKcalendar.advance(Computation_date, 5, ql.Days)\n",
    "\n",
    "# 10 year SWAP contract maturity\n",
    "Maturity_date = UKcalendar.advance(Settlement_date, 10, ql.Years)\n",
    "\n",
    "# Tenor: amount of time left until the SWAP contract expires.\n",
    "\n",
    "Fixed_leg_tenor = ql.Period(6, ql.Months)\n",
    "Fixed_schedule = ql.Schedule(Settlement_date, Maturity_date, \n",
    "                             Fixed_leg_tenor, UKcalendar,\n",
    "                             ql.ModifiedFollowing, ql.ModifiedFollowing,\n",
    "                             ql.DateGeneration.Forward, False)\n",
    "\n",
    "\n",
    "\n",
    "Floating_leg_tenor = ql.Period(3, ql.Months)\n",
    "Floating_schedule = ql.Schedule (Settlement_date, Maturity_date, \n",
    "                              Floating_leg_tenor, UKcalendar,\n",
    "                              ql.ModifiedFollowing, ql.ModifiedFollowing,\n",
    "                              ql.DateGeneration.Forward, False)"
   ]
  },
  {
   "cell_type": "code",
   "execution_count": 15,
   "metadata": {},
   "outputs": [],
   "source": [
    "# We construct a VanillaSwap object by including the fixed and float leg schedules created above.\n",
    "\n",
    "# Notional = 100 millions\n",
    "Notional = 100000000\n",
    "\n",
    "# Let the fixed leg pay 3% coupon semiannually.\n",
    "Fixed_rate = 0.03\n",
    "Fixed_leg_daycount = ql.Actual360()\n",
    "\n",
    "# Let the floating leg pay 3-month LIBOR quarterly.\n",
    "Floating_spread = 0.004\n",
    "Floating_leg_daycount = ql.Actual360()\n",
    "\n",
    "Interest_Rate_Swap = ql.VanillaSwap(ql.VanillaSwap.Payer, Notional, Fixed_schedule, \n",
    "               Fixed_rate, Fixed_leg_daycount, Floating_schedule,\n",
    "               LIBOR_3months_index, Floating_spread, Floating_leg_daycount )"
   ]
  },
  {
   "cell_type": "code",
   "execution_count": 16,
   "metadata": {},
   "outputs": [],
   "source": [
    "# We evaluate the swap using a discounting engine.\n",
    "\n",
    "Swap_engine = ql.DiscountingSwapEngine(PV_discount_curve)\n",
    "Interest_Rate_Swap.setPricingEngine(Swap_engine)"
   ]
  },
  {
   "cell_type": "code",
   "execution_count": 17,
   "metadata": {},
   "outputs": [
    {
     "name": "stdout",
     "output_type": "stream",
     "text": [
      " 1    April 27th, 2016    1525000.00\n",
      " 2    October 27th, 2016  1525000.00\n",
      " 3    April 27th, 2017    1516666.67\n",
      " 4    October 27th, 2017  1525000.00\n",
      " 5    April 27th, 2018    1516666.67\n",
      " 6    October 29th, 2018  1541666.67\n",
      " 7    April 29th, 2019    1516666.67\n",
      " 8    October 28th, 2019  1516666.67\n",
      " 9    April 27th, 2020    1516666.67\n",
      "10    October 27th, 2020  1525000.00\n",
      "11    April 27th, 2021    1516666.67\n",
      "12    October 27th, 2021  1525000.00\n",
      "13    April 27th, 2022    1516666.67\n",
      "14    October 27th, 2022  1525000.00\n",
      "15    April 27th, 2023    1516666.67\n",
      "16    October 27th, 2023  1525000.00\n",
      "17    April 29th, 2024    1541666.67\n",
      "18    October 28th, 2024  1516666.67\n",
      "19    April 28th, 2025    1516666.67\n",
      "20    October 27th, 2025  1516666.67\n"
     ]
    }
   ],
   "source": [
    "# We evaluate the swap using a discounting engine.\n",
    "# The cashflows for the fixed and floating leg can be extracted from the ir_swap object. \n",
    "# The fixed leg cashflows are shown below:\n",
    "for i, cf in enumerate(Interest_Rate_Swap.leg(0)):\n",
    "    print (\"%2d    %-18s  %10.2f\"%(i+1, cf.date(), cf.amount()))"
   ]
  },
  {
   "cell_type": "code",
   "execution_count": 18,
   "metadata": {},
   "outputs": [
    {
     "name": "stdout",
     "output_type": "stream",
     "text": [
      " 1    January 27th, 2016   607604.58\n",
      " 2    April 27th, 2016     600986.48\n",
      " 3    July 27th, 2016      600986.48\n",
      " 4    October 27th, 2016   607604.58\n",
      " 5    January 27th, 2017   607604.58\n",
      " 6    April 27th, 2017     594368.67\n",
      " 7    July 27th, 2017      600986.48\n",
      " 8    October 27th, 2017   607604.58\n",
      " 9    January 29th, 2018   620841.70\n",
      "10    April 27th, 2018     581133.97\n",
      "11    July 27th, 2018      600986.48\n",
      "12    October 29th, 2018   620841.70\n",
      "13    January 28th, 2019   600986.48\n",
      "14    April 29th, 2019     600986.48\n",
      "15    July 29th, 2019      600986.48\n",
      "16    October 28th, 2019   600986.48\n",
      "17    January 27th, 2020   600986.48\n",
      "18    April 27th, 2020     600986.48\n",
      "19    July 27th, 2020      600986.48\n",
      "20    October 27th, 2020   607604.58\n",
      "21    January 27th, 2021   607604.58\n",
      "22    April 27th, 2021     594368.67\n",
      "23    July 27th, 2021      600986.48\n",
      "24    October 27th, 2021   607604.58\n",
      "25    January 27th, 2022   607604.58\n",
      "26    April 27th, 2022     594368.67\n",
      "27    July 27th, 2022      600986.48\n",
      "28    October 27th, 2022   607604.58\n",
      "29    January 27th, 2023   607604.58\n",
      "30    April 27th, 2023     594368.67\n",
      "31    July 27th, 2023      600986.48\n",
      "32    October 27th, 2023   607604.58\n",
      "33    January 29th, 2024   620841.70\n",
      "34    April 29th, 2024     600986.48\n",
      "35    July 29th, 2024      600986.48\n",
      "36    October 28th, 2024   600986.48\n",
      "37    January 27th, 2025   600986.48\n",
      "38    April 28th, 2025     600986.48\n",
      "39    July 28th, 2025      600986.48\n",
      "40    October 27th, 2025   600986.48\n"
     ]
    }
   ],
   "source": [
    "# The floating leg cashflows are shown below:\n",
    "for i, cf in enumerate(Interest_Rate_Swap.leg(1)):\n",
    "    print (\"%2d    %-18s  %10.2f\"%(i+1, cf.date(), cf.amount()))"
   ]
  },
  {
   "cell_type": "code",
   "execution_count": 19,
   "metadata": {},
   "outputs": [
    {
     "name": "stdout",
     "output_type": "stream",
     "text": [
      "Net Present Value   :         -5965530.814\n",
      "Fair Spread         :                0.010\n",
      "Fair Rate           :                0.024\n",
      "Fixed Leg BPS       :           -96299.809\n",
      "Floating Leg BPS    :            96420.424\n"
     ]
    }
   ],
   "source": [
    "# Some other analytics such as the fair value, fair spread etc can be extracted as shown below.\n",
    "\n",
    "print (\"%-20s: %20.3f\" % (\"Net Present Value\", Interest_Rate_Swap.NPV()))\n",
    "print (\"%-20s: %20.3f\" % (\"Fair Spread\", Interest_Rate_Swap.fairSpread()))\n",
    "print (\"%-20s: %20.3f\" % (\"Fair Rate\", Interest_Rate_Swap.fairRate()))\n",
    "print (\"%-20s: %20.3f\" % (\"Fixed Leg BPS\", Interest_Rate_Swap.fixedLegBPS()))\n",
    "print (\"%-20s: %20.3f\" % (\"Floating Leg BPS\", Interest_Rate_Swap.floatingLegBPS()))"
   ]
  },
  {
   "cell_type": "code",
   "execution_count": null,
   "metadata": {},
   "outputs": [],
   "source": []
  },
  {
   "cell_type": "code",
   "execution_count": null,
   "metadata": {},
   "outputs": [],
   "source": []
  }
 ],
 "metadata": {
  "kernelspec": {
   "display_name": "Python 3",
   "language": "python",
   "name": "python3"
  },
  "language_info": {
   "codemirror_mode": {
    "name": "ipython",
    "version": 3
   },
   "file_extension": ".py",
   "mimetype": "text/x-python",
   "name": "python",
   "nbconvert_exporter": "python",
   "pygments_lexer": "ipython3",
   "version": "3.6.8"
  }
 },
 "nbformat": 4,
 "nbformat_minor": 2
}
